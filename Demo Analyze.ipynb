{
    "nbformat_minor": 1, 
    "metadata": {
        "language_info": {
            "codemirror_mode": {
                "name": "ipython", 
                "version": 2
            }, 
            "version": "2.7.11", 
            "pygments_lexer": "ipython2", 
            "name": "python", 
            "file_extension": ".py", 
            "nbconvert_exporter": "python", 
            "mimetype": "text/x-python"
        }, 
        "kernelspec": {
            "language": "python", 
            "name": "python2-spark21", 
            "display_name": "Python 2 with Spark 2.1"
        }
    }, 
    "nbformat": 4, 
    "cells": [
        {
            "execution_count": 1, 
            "metadata": {
                "collapsed": true
            }, 
            "source": "from pyspark.sql import SparkSession\nspark = SparkSession.builder.getOrCreate()", 
            "outputs": [], 
            "cell_type": "code"
        }, 
        {
            "execution_count": 29, 
            "metadata": {
                "collapsed": true
            }, 
            "source": "# The code was removed by DSX for sharing.", 
            "outputs": [], 
            "cell_type": "code"
        }, 
        {
            "execution_count": 30, 
            "metadata": {
                "collapsed": true
            }, 
            "source": "cloudantdata = spark.read.format(\"org.apache.bahir.cloudant\")\\\n.option(\"cloudant.host\",credentials_1['host'])\\\n.option(\"cloudant.username\", credentials_1['username'])\\\n.option(\"cloudant.password\", credentials_1['password'])\\\n.load(\"crimes\")", 
            "outputs": [], 
            "cell_type": "code"
        }, 
        {
            "execution_count": 31, 
            "metadata": {}, 
            "source": "cloudantdata.printSchema\ncloudantdata.count()", 
            "outputs": [
                {
                    "execution_count": 31, 
                    "metadata": {}, 
                    "data": {
                        "text/plain": "19"
                    }, 
                    "output_type": "execute_result"
                }
            ], 
            "cell_type": "code"
        }, 
        {
            "execution_count": 32, 
            "metadata": {}, 
            "source": "cloudantdata.select(\"properties.naturecode\").show()", 
            "outputs": [
                {
                    "name": "stdout", 
                    "output_type": "stream", 
                    "text": "+----------+\n|naturecode|\n+----------+\n|    IVPREM|\n|    LARCEN|\n|    LARCEN|\n|      PROP|\n|     IVPER|\n|    LARCEN|\n|      DVIP|\n|     IVPER|\n|        BE|\n|    LARCEN|\n|    VIORDR|\n|    LARCEN|\n|      IVMV|\n|    VIORDR|\n|       MVA|\n|    LARCEN|\n|      PROP|\n|    INVEST|\n|     IVPER|\n+----------+\n\n"
                }
            ], 
            "cell_type": "code"
        }, 
        {
            "execution_count": 33, 
            "metadata": {}, 
            "source": "disturbDF = cloudantdata.filter(\"properties.naturecode = 'PROP'\")\ndisturbDF.show()", 
            "outputs": [
                {
                    "name": "stdout", 
                    "output_type": "stream", 
                    "text": "+--------------------+--------------------+--------------------+--------------------+-------+\n|                 _id|                _rev|            geometry|          properties|   type|\n+--------------------+--------------------+--------------------+--------------------+-------+\n|79f14b64c57461584...|1-816e850ff5ec224...|[WrappedArray(-71...|[142036397,false,...|Feature|\n|79f14b64c57461584...|1-e557e2555201054...|[WrappedArray(-71...|[142045880,false,...|Feature|\n+--------------------+--------------------+--------------------+--------------------+-------+\n\n"
                }
            ], 
            "cell_type": "code"
        }, 
        {
            "execution_count": 35, 
            "metadata": {}, 
            "source": "disturbDF.select(\"properties\").write.format(\"org.apache.bahir.cloudant\")\\\n.option(\"cloudant.host\",credentials_1['host'])\\\n.option(\"cloudant.username\",credentials_1['username'])\\\n.option(\"cloudant.password\",credentials_1['password'])\\\n.option(\"createDBOnSave\", \"true\")\\\n.save(\"crimes_filtered_2\")", 
            "outputs": [], 
            "cell_type": "code"
        }, 
        {
            "execution_count": 36, 
            "metadata": {}, 
            "source": "reducedValue = cloudantdata.groupBy(\"properties.naturecode\").count()\nreducedValue.printSchema()", 
            "outputs": [
                {
                    "name": "stdout", 
                    "output_type": "stream", 
                    "text": "root\n |-- naturecode: string (nullable = true)\n |-- count: long (nullable = false)\n\n"
                }
            ], 
            "cell_type": "code"
        }, 
        {
            "execution_count": 37, 
            "metadata": {
                "collapsed": true
            }, 
            "source": "import pprint\nfrom collections import Counter", 
            "outputs": [], 
            "cell_type": "code"
        }, 
        {
            "execution_count": 38, 
            "metadata": {
                "collapsed": true
            }, 
            "source": "from pyspark.sql import *\nfrom pyspark.sql.functions import udf, asc, desc\nfrom pyspark import SparkContext, SparkConf\nfrom pyspark.sql.types import IntegerType", 
            "outputs": [], 
            "cell_type": "code"
        }, 
        {
            "execution_count": 39, 
            "metadata": {}, 
            "source": "import pandas as pd\npandaDF = reducedValue.orderBy(desc(\"count\"), asc(\"naturecode\")).toPandas()\nprint(pandaDF)", 
            "outputs": [
                {
                    "name": "stdout", 
                    "output_type": "stream", 
                    "text": "  naturecode  count\n0     LARCEN      6\n1      IVPER      3\n2       PROP      2\n3     VIORDR      2\n4         BE      1\n5       DVIP      1\n6     INVEST      1\n7       IVMV      1\n8     IVPREM      1\n9        MVA      1\n"
                }
            ], 
            "cell_type": "code"
        }, 
        {
            "execution_count": 40, 
            "metadata": {
                "collapsed": true
            }, 
            "source": " %matplotlib inline", 
            "outputs": [], 
            "cell_type": "code"
        }, 
        {
            "execution_count": 41, 
            "metadata": {
                "collapsed": true
            }, 
            "source": "import matplotlib.pyplot as plt", 
            "outputs": [], 
            "cell_type": "code"
        }, 
        {
            "execution_count": 42, 
            "metadata": {
                "collapsed": true
            }, 
            "source": "values = pandaDF['count']", 
            "outputs": [], 
            "cell_type": "code"
        }, 
        {
            "execution_count": 43, 
            "metadata": {
                "collapsed": true
            }, 
            "source": "labels = pandaDF['naturecode']", 
            "outputs": [], 
            "cell_type": "code"
        }, 
        {
            "execution_count": 44, 
            "metadata": {}, 
            "source": "plt.gcf().set_size_inches(16, 12, forward=True)\nplt.title('Number of crimes by type')\n\nplt.barh(range(len(values)), values)\nplt.yticks(range(len(values)), labels)\n\nplt.show()", 
            "outputs": [
                {
                    "metadata": {}, 
                    "data": {
                        "image/png": "[encoded data removed]", 
                        "text/plain": "<matplotlib.figure.Figure at 0x7f4bc049edd0>"
                    }, 
                    "output_type": "display_data"
                }
            ], 
            "cell_type": "code"
        }, 
        {
            "execution_count": null, 
            "metadata": {
                "collapsed": true
            }, 
            "source": "", 
            "outputs": [], 
            "cell_type": "code"
        }
    ]
}