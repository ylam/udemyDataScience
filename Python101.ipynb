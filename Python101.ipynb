{
    "metadata": {
        "kernelspec": {
            "language": "python", 
            "display_name": "Python 3.5 (Experimental) with Spark 1.6 (Unsupported)", 
            "name": "python3"
        }, 
        "language_info": {
            "version": "3.5.2", 
            "codemirror_mode": {
                "version": 3, 
                "name": "ipython"
            }, 
            "nbconvert_exporter": "python", 
            "mimetype": "text/x-python", 
            "name": "python", 
            "pygments_lexer": "ipython3", 
            "file_extension": ".py"
        }
    }, 
    "nbformat": 4, 
    "cells": [
        {
            "metadata": {}, 
            "cell_type": "markdown", 
            "source": "# Python Basics"
        }, 
        {
            "metadata": {}, 
            "cell_type": "markdown", 
            "source": "## Whitespace Is Important"
        }, 
        {
            "execution_count": 1, 
            "metadata": {}, 
            "cell_type": "code", 
            "source": "listOfNumbers = [1, 2, 3, 4, 5, 6]\n\nfor number in listOfNumbers:\n    print(number)\n    if (number % 2 == 0):\n        print(\"is even\")\n    else:\n        print(\"is odd\")\n        \nprint (\"Hooray! We are all done. All done.\")\n        ", 
            "outputs": [
                {
                    "output_type": "stream", 
                    "name": "stdout", 
                    "text": "1\nis odd\n2\nis even\n3\nis odd\n4\nis even\n5\nis odd\n6\nis even\nHooray! We are all done. All done.\n"
                }
            ]
        }, 
        {
            "metadata": {}, 
            "cell_type": "markdown", 
            "source": "## Importing Modules"
        }, 
        {
            "execution_count": 3, 
            "metadata": {}, 
            "cell_type": "code", 
            "source": "import numpy as np\n\nA = np.random.normal(25.0, 5.0, 10)\nprint (A)", 
            "outputs": [
                {
                    "output_type": "stream", 
                    "name": "stdout", 
                    "text": "[ 23.77342183  17.76123824  26.40863626  20.04778748  27.57734213\n  27.36236172  24.33647236  25.37378748  29.16490637  19.66916707]\n"
                }
            ]
        }, 
        {
            "metadata": {}, 
            "cell_type": "markdown", 
            "source": "## Lists"
        }, 
        {
            "execution_count": 4, 
            "metadata": {}, 
            "cell_type": "code", 
            "source": "x = [1, 2, 3, 4, 5, 6]\nprint(len(x))", 
            "outputs": [
                {
                    "output_type": "stream", 
                    "name": "stdout", 
                    "text": "6\n"
                }
            ]
        }, 
        {
            "execution_count": 5, 
            "metadata": {}, 
            "cell_type": "code", 
            "source": "x[:3]", 
            "outputs": [
                {
                    "execution_count": 5, 
                    "metadata": {}, 
                    "data": {
                        "text/plain": "[1, 2, 3]"
                    }, 
                    "output_type": "execute_result"
                }
            ]
        }, 
        {
            "execution_count": 6, 
            "metadata": {}, 
            "cell_type": "code", 
            "source": "x[3:]", 
            "outputs": [
                {
                    "execution_count": 6, 
                    "metadata": {}, 
                    "data": {
                        "text/plain": "[4, 5, 6]"
                    }, 
                    "output_type": "execute_result"
                }
            ]
        }, 
        {
            "execution_count": 8, 
            "metadata": {}, 
            "cell_type": "code", 
            "source": "x[-2:]", 
            "outputs": [
                {
                    "execution_count": 8, 
                    "metadata": {}, 
                    "data": {
                        "text/plain": "[5, 6]"
                    }, 
                    "output_type": "execute_result"
                }
            ]
        }, 
        {
            "execution_count": 9, 
            "metadata": {}, 
            "cell_type": "code", 
            "source": "x.extend([7,8])\nx", 
            "outputs": [
                {
                    "execution_count": 9, 
                    "metadata": {}, 
                    "data": {
                        "text/plain": "[1, 2, 3, 4, 5, 6, 7, 8]"
                    }, 
                    "output_type": "execute_result"
                }
            ]
        }, 
        {
            "execution_count": 10, 
            "metadata": {}, 
            "cell_type": "code", 
            "source": "x.append(9)\nx", 
            "outputs": [
                {
                    "execution_count": 10, 
                    "metadata": {}, 
                    "data": {
                        "text/plain": "[1, 2, 3, 4, 5, 6, 7, 8, 9]"
                    }, 
                    "output_type": "execute_result"
                }
            ]
        }, 
        {
            "execution_count": 11, 
            "metadata": {}, 
            "cell_type": "code", 
            "source": "y = [10, 11, 12]\nlistOfLists = [x, y]\nlistOfLists", 
            "outputs": [
                {
                    "execution_count": 11, 
                    "metadata": {}, 
                    "data": {
                        "text/plain": "[[1, 2, 3, 4, 5, 6, 7, 8, 9], [10, 11, 12]]"
                    }, 
                    "output_type": "execute_result"
                }
            ]
        }, 
        {
            "execution_count": 12, 
            "metadata": {}, 
            "cell_type": "code", 
            "source": "y[1]", 
            "outputs": [
                {
                    "execution_count": 12, 
                    "metadata": {}, 
                    "data": {
                        "text/plain": "11"
                    }, 
                    "output_type": "execute_result"
                }
            ]
        }, 
        {
            "execution_count": 13, 
            "metadata": {}, 
            "cell_type": "code", 
            "source": "z = [3, 2, 1]\nz.sort()\nz", 
            "outputs": [
                {
                    "execution_count": 13, 
                    "metadata": {}, 
                    "data": {
                        "text/plain": "[1, 2, 3]"
                    }, 
                    "output_type": "execute_result"
                }
            ]
        }, 
        {
            "execution_count": 14, 
            "metadata": {}, 
            "cell_type": "code", 
            "source": "z.sort(reverse=True)\nz", 
            "outputs": [
                {
                    "execution_count": 14, 
                    "metadata": {}, 
                    "data": {
                        "text/plain": "[3, 2, 1]"
                    }, 
                    "output_type": "execute_result"
                }
            ]
        }, 
        {
            "metadata": {}, 
            "cell_type": "markdown", 
            "source": "## Tuples"
        }, 
        {
            "execution_count": 15, 
            "metadata": {}, 
            "cell_type": "code", 
            "source": "#Tuples are just immutable lists. Use () instead of []\nx = (1, 2, 3)\nlen(x)", 
            "outputs": [
                {
                    "execution_count": 15, 
                    "metadata": {}, 
                    "data": {
                        "text/plain": "3"
                    }, 
                    "output_type": "execute_result"
                }
            ]
        }, 
        {
            "execution_count": 16, 
            "metadata": {}, 
            "cell_type": "code", 
            "source": "y = (4, 5, 6)\ny[2]", 
            "outputs": [
                {
                    "execution_count": 16, 
                    "metadata": {}, 
                    "data": {
                        "text/plain": "6"
                    }, 
                    "output_type": "execute_result"
                }
            ]
        }, 
        {
            "execution_count": 17, 
            "metadata": {}, 
            "cell_type": "code", 
            "source": "listOfTuples = [x, y]\nlistOfTuples", 
            "outputs": [
                {
                    "execution_count": 17, 
                    "metadata": {}, 
                    "data": {
                        "text/plain": "[(1, 2, 3), (4, 5, 6)]"
                    }, 
                    "output_type": "execute_result"
                }
            ]
        }, 
        {
            "execution_count": 18, 
            "metadata": {}, 
            "cell_type": "code", 
            "source": "(age, income) = \"32,120000\".split(',')\nprint(age)\nprint(income)", 
            "outputs": [
                {
                    "output_type": "stream", 
                    "name": "stdout", 
                    "text": "32\n120000\n"
                }
            ]
        }, 
        {
            "metadata": {}, 
            "cell_type": "markdown", 
            "source": "## Dictionaries"
        }, 
        {
            "execution_count": 8, 
            "metadata": {}, 
            "cell_type": "code", 
            "source": "# Like a map or hash table in other languages\ncaptains = {}\ncaptains[\"Enterprise\"] = \"Kirk\"\ncaptains[\"Enterprise D\"] = \"Picard\"\ncaptains[\"Deep Space Nine\"] = \"Sisko\"\ncaptains[\"Voyager\"] = \"Janeway\"\n\nprint(captains[\"Voyager\"])", 
            "outputs": [
                {
                    "output_type": "stream", 
                    "name": "stdout", 
                    "text": "Janeway\n"
                }
            ]
        }, 
        {
            "execution_count": 9, 
            "metadata": {}, 
            "cell_type": "code", 
            "source": "print(captains.get(\"Enterprise\"))", 
            "outputs": [
                {
                    "output_type": "stream", 
                    "name": "stdout", 
                    "text": "Kirk\n"
                }
            ]
        }, 
        {
            "execution_count": 10, 
            "metadata": {}, 
            "cell_type": "code", 
            "source": "print(captains.get(\"NX-01\"))", 
            "outputs": [
                {
                    "output_type": "stream", 
                    "name": "stdout", 
                    "text": "None\n"
                }
            ]
        }, 
        {
            "execution_count": 11, 
            "metadata": {}, 
            "cell_type": "code", 
            "source": "for ship in captains:\n    print(ship + \": \" + captains[ship])", 
            "outputs": [
                {
                    "output_type": "stream", 
                    "name": "stdout", 
                    "text": "Enterprise D: Picard\nVoyager: Janeway\nEnterprise: Kirk\nDeep Space Nine: Sisko\n"
                }
            ]
        }, 
        {
            "metadata": {}, 
            "cell_type": "markdown", 
            "source": "## Functions"
        }, 
        {
            "execution_count": 23, 
            "metadata": {}, 
            "cell_type": "code", 
            "source": "def SquareIt(x):\n    return x * x\n\nprint(SquareIt(2))\n", 
            "outputs": [
                {
                    "output_type": "stream", 
                    "name": "stdout", 
                    "text": "4\n"
                }
            ]
        }, 
        {
            "execution_count": 24, 
            "metadata": {}, 
            "cell_type": "code", 
            "source": "#You can pass functions around as parameters\ndef DoSomething(f, x):\n    return f(x)\n\nprint(DoSomething(SquareIt, 3))", 
            "outputs": [
                {
                    "output_type": "stream", 
                    "name": "stdout", 
                    "text": "9\n"
                }
            ]
        }, 
        {
            "execution_count": 25, 
            "metadata": {}, 
            "cell_type": "code", 
            "source": "#Lambda functions let you inline simple functions\nprint(DoSomething(lambda x: x * x * x, 3))", 
            "outputs": [
                {
                    "output_type": "stream", 
                    "name": "stdout", 
                    "text": "27\n"
                }
            ]
        }, 
        {
            "metadata": {}, 
            "cell_type": "markdown", 
            "source": "## Boolean Expressions"
        }, 
        {
            "execution_count": 26, 
            "metadata": {}, 
            "cell_type": "code", 
            "source": "print(1 == 3)", 
            "outputs": [
                {
                    "output_type": "stream", 
                    "name": "stdout", 
                    "text": "False\n"
                }
            ]
        }, 
        {
            "execution_count": 27, 
            "metadata": {}, 
            "cell_type": "code", 
            "source": "print(True or False)", 
            "outputs": [
                {
                    "output_type": "stream", 
                    "name": "stdout", 
                    "text": "True\n"
                }
            ]
        }, 
        {
            "execution_count": 28, 
            "metadata": {}, 
            "cell_type": "code", 
            "source": "print(1 is 3)", 
            "outputs": [
                {
                    "output_type": "stream", 
                    "name": "stdout", 
                    "text": "False\n"
                }
            ]
        }, 
        {
            "execution_count": 29, 
            "metadata": {}, 
            "cell_type": "code", 
            "source": "if 1 is 3:\n    print(\"How did that happen?\")\nelif 1 > 3:\n    print(\"Yikes\")\nelse:\n    print(\"All is well with the world\")", 
            "outputs": [
                {
                    "output_type": "stream", 
                    "name": "stdout", 
                    "text": "All is well with the world\n"
                }
            ]
        }, 
        {
            "metadata": {}, 
            "cell_type": "markdown", 
            "source": "## Looping"
        }, 
        {
            "execution_count": 30, 
            "metadata": {}, 
            "cell_type": "code", 
            "source": "for x in range(10):\n    print(x)", 
            "outputs": [
                {
                    "output_type": "stream", 
                    "name": "stdout", 
                    "text": "0\n1\n2\n3\n4\n5\n6\n7\n8\n9\n"
                }
            ]
        }, 
        {
            "execution_count": 31, 
            "metadata": {}, 
            "cell_type": "code", 
            "source": "for x in range(10):\n    if (x is 1):\n        continue\n    if (x > 5):\n        break\n    print(x)", 
            "outputs": [
                {
                    "output_type": "stream", 
                    "name": "stdout", 
                    "text": "0\n2\n3\n4\n5\n"
                }
            ]
        }, 
        {
            "execution_count": 32, 
            "metadata": {}, 
            "cell_type": "code", 
            "source": "x = 0\nwhile (x < 10):\n    print(x)\n    x += 1", 
            "outputs": [
                {
                    "output_type": "stream", 
                    "name": "stdout", 
                    "text": "0\n1\n2\n3\n4\n5\n6\n7\n8\n9\n"
                }
            ]
        }, 
        {
            "metadata": {}, 
            "cell_type": "markdown", 
            "source": "## Activity"
        }, 
        {
            "metadata": {}, 
            "cell_type": "markdown", 
            "source": "Write some code that creates a list of integers, loops through each element of the list, and only prints out even numbers!"
        }, 
        {
            "execution_count": null, 
            "metadata": {}, 
            "cell_type": "code", 
            "source": "", 
            "outputs": []
        }
    ], 
    "nbformat_minor": 1
}